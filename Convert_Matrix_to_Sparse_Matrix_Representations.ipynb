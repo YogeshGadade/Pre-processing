{
 "cells": [
  {
   "cell_type": "markdown",
   "metadata": {},
   "source": [
    "# Sparse Matrix and its representations"
   ]
  },
  {
   "attachments": {},
   "cell_type": "markdown",
   "metadata": {},
   "source": [
    "For more details refer to my article: https://limitlessdatascience.wordpress.com/2020/11/26/sparse-matrix-in-machine-learning/"
   ]
  },
  {
   "cell_type": "markdown",
   "metadata": {},
   "source": [
    "### Simple Example: Convert Dense matrix to Sparse matrix and then again back to Dense matrix"
   ]
  },
  {
   "cell_type": "code",
   "execution_count": 1,
   "metadata": {},
   "outputs": [],
   "source": [
    "import sys                 # Return the size of an object in bytes\n",
    "import numpy as np"
   ]
  },
  {
   "cell_type": "code",
   "execution_count": 2,
   "metadata": {},
   "outputs": [],
   "source": [
    "from scipy.sparse import csr_matrix, csc_matrix\n",
    "# csr_matrix: used to create compressed sparse row matrix from Matrix\n",
    "# csc_matrix: used to create compressed sparse column matrix from Matrix"
   ]
  },
  {
   "cell_type": "code",
   "execution_count": 3,
   "metadata": {},
   "outputs": [
    {
     "name": "stdout",
     "output_type": "stream",
     "text": [
      "Dense matrix representation: \n",
      " [[1 0 0 0 0 0]\n",
      " [0 0 2 0 0 1]\n",
      " [0 0 0 2 0 0]]\n",
      "Memory utilised (bytes):  184\n",
      "Type of the object <class 'numpy.ndarray'>\n"
     ]
    }
   ],
   "source": [
    "# create a 2-D representation of the matrix\n",
    "A = np.array([[1, 0, 0, 0, 0, 0], [0, 0, 2, 0, 0, 1],\\\n",
    " [0, 0, 0, 2, 0, 0]])\n",
    "print(\"Dense matrix representation: \\n\", A)\n",
    "print(\"Memory utilised (bytes): \", sys.getsizeof(A))\n",
    "print(\"Type of the object\", type(A))"
   ]
  },
  {
   "cell_type": "code",
   "execution_count": 4,
   "metadata": {},
   "outputs": [
    {
     "name": "stdout",
     "output_type": "stream",
     "text": [
      "Sparse 'row' matrix: \n",
      "   (0, 0)\t1\n",
      "  (1, 2)\t2\n",
      "  (1, 5)\t1\n",
      "  (2, 3)\t2\n",
      "Memory utilised (bytes):  56\n",
      "Type of the object <class 'scipy.sparse.csr.csr_matrix'>\n"
     ]
    }
   ],
   "source": [
    "# convert to Compressed sparse row matrix representation \n",
    "S = csr_matrix(A)\n",
    "print(\"Sparse 'row' matrix: \\n\",S)\n",
    "print(\"Memory utilised (bytes): \", sys.getsizeof(S))\n",
    "print(\"Type of the object\", type(S))"
   ]
  },
  {
   "cell_type": "code",
   "execution_count": 5,
   "metadata": {},
   "outputs": [
    {
     "name": "stdout",
     "output_type": "stream",
     "text": [
      "Sparse 'column' matrix: \n",
      "   (0, 0)\t1\n",
      "  (1, 2)\t2\n",
      "  (2, 3)\t2\n",
      "  (1, 5)\t1\n",
      "Memory utilised (bytes):  56\n",
      "Type of the object <class 'scipy.sparse.csc.csc_matrix'>\n"
     ]
    }
   ],
   "source": [
    "# convert to Compressed sparse column matrix representation \n",
    "S = csc_matrix(A)\n",
    "print(\"Sparse 'column' matrix: \\n\",S)\n",
    "print(\"Memory utilised (bytes): \", sys.getsizeof(S))\n",
    "print(\"Type of the object\", type(S))"
   ]
  },
  {
   "cell_type": "code",
   "execution_count": null,
   "metadata": {},
   "outputs": [],
   "source": []
  },
  {
   "cell_type": "markdown",
   "metadata": {},
   "source": [
    "# Convert back Sparse matrix to 2-D representation of the matrix"
   ]
  },
  {
   "cell_type": "code",
   "execution_count": 6,
   "metadata": {},
   "outputs": [
    {
     "name": "stdout",
     "output_type": "stream",
     "text": [
      "Dense matrix: \n",
      " [[1 0 0 0 0 0]\n",
      " [0 0 2 0 0 1]\n",
      " [0 0 0 2 0 0]]\n",
      "Memory utilised (bytes):  136\n",
      "Type of the object <class 'numpy.matrix'>\n"
     ]
    }
   ],
   "source": [
    "B = S.todense()\n",
    "print(\"Dense matrix: \\n\", B)\n",
    "print(\"Memory utilised (bytes): \", sys.getsizeof(B))\n",
    "print(\"Type of the object\", type(B))"
   ]
  },
  {
   "cell_type": "markdown",
   "metadata": {},
   "source": [
    "#### Note the reason for 184 Vs 136 is because of numpy.ndarray and numpy.matrix"
   ]
  },
  {
   "cell_type": "code",
   "execution_count": 7,
   "metadata": {},
   "outputs": [
    {
     "name": "stdout",
     "output_type": "stream",
     "text": [
      "Dense matrix: \n",
      " [[1 0 0 0 0 0]\n",
      " [0 0 2 0 0 1]\n",
      " [0 0 0 2 0 0]]\n",
      "Memory utilised (bytes):  184\n",
      "Type of the object <class 'numpy.ndarray'>\n"
     ]
    }
   ],
   "source": [
    "B = S.toarray()\n",
    "print(\"Dense matrix: \\n\", B)\n",
    "print(\"Memory utilised (bytes): \", sys.getsizeof(B))\n",
    "print(\"Type of the object\", type(B))"
   ]
  },
  {
   "cell_type": "markdown",
   "metadata": {},
   "source": [
    "# Example 2"
   ]
  },
  {
   "cell_type": "code",
   "execution_count": 8,
   "metadata": {},
   "outputs": [
    {
     "name": "stdout",
     "output_type": "stream",
     "text": [
      "[[0.45948034 0.77151356 0.97124281 0.49015045 0.54030134 0.47465488]\n",
      " [0.10439909 0.93797568 0.27714433 0.54126204 0.64281374 0.22220006]\n",
      " [0.43202329 0.05291794 0.71129842 0.40946858 0.55398491 0.93432567]\n",
      " [0.95533057 0.76651525 0.02970801 0.49983595 0.49378451 0.24335626]\n",
      " [0.27167082 0.21165409 0.41305648 0.18596697 0.17038109 0.26334191]\n",
      " [0.98262283 0.40976662 0.72299496 0.63035364 0.59889638 0.78087513]]\n",
      "Memory utilised (bytes):  400\n"
     ]
    }
   ],
   "source": [
    "X = np.random.uniform(size=(6, 6))\n",
    "print(X)\n",
    "print(\"Memory utilised (bytes): \", sys.getsizeof(X))"
   ]
  },
  {
   "cell_type": "code",
   "execution_count": 9,
   "metadata": {},
   "outputs": [
    {
     "name": "stdout",
     "output_type": "stream",
     "text": [
      "[[0.         0.77151356 0.97124281 0.         0.         0.        ]\n",
      " [0.         0.93797568 0.         0.         0.         0.        ]\n",
      " [0.         0.         0.71129842 0.         0.         0.93432567]\n",
      " [0.95533057 0.76651525 0.         0.         0.         0.        ]\n",
      " [0.         0.         0.         0.         0.         0.        ]\n",
      " [0.98262283 0.         0.72299496 0.         0.         0.78087513]]\n",
      "Memory utilised (bytes):  400\n"
     ]
    }
   ],
   "source": [
    "#Then we need to zero out a majority of the matrix elements, making it sparse.\n",
    "X[X < 0.7] = 0\n",
    "print(X)\n",
    "print(\"Memory utilised (bytes): \", sys.getsizeof(X))"
   ]
  },
  {
   "cell_type": "code",
   "execution_count": 10,
   "metadata": {},
   "outputs": [
    {
     "name": "stdout",
     "output_type": "stream",
     "text": [
      "  (0, 1)\t0.7715135624055367\n",
      "  (0, 2)\t0.9712428096352037\n",
      "  (1, 1)\t0.9379756815413223\n",
      "  (2, 2)\t0.7112984215174241\n",
      "  (2, 5)\t0.9343256743390597\n",
      "  (3, 0)\t0.9553305681966052\n",
      "  (3, 1)\t0.7665152460404666\n",
      "  (5, 0)\t0.9826228333873722\n",
      "  (5, 2)\t0.722994961401296\n",
      "  (5, 5)\t0.7808751293630022\n",
      "Memory utilised (bytes):  56\n"
     ]
    }
   ],
   "source": [
    "X_csr = csr_matrix(X)\n",
    "print(X_csr)\n",
    "print(\"Memory utilised (bytes): \", sys.getsizeof(X_csr))"
   ]
  },
  {
   "cell_type": "code",
   "execution_count": 11,
   "metadata": {},
   "outputs": [
    {
     "name": "stdout",
     "output_type": "stream",
     "text": [
      "  (3, 0)\t0.9553305681966052\n",
      "  (5, 0)\t0.9826228333873722\n",
      "  (0, 1)\t0.7715135624055367\n",
      "  (1, 1)\t0.9379756815413223\n",
      "  (3, 1)\t0.7665152460404666\n",
      "  (0, 2)\t0.9712428096352037\n",
      "  (2, 2)\t0.7112984215174241\n",
      "  (5, 2)\t0.722994961401296\n",
      "  (2, 5)\t0.9343256743390597\n",
      "  (5, 5)\t0.7808751293630022\n",
      "Memory utilised (bytes):  56\n"
     ]
    }
   ],
   "source": [
    "X_csc = csc_matrix(X)\n",
    "print(X_csc)\n",
    "print(\"Memory utilised (bytes): \", sys.getsizeof(X_csc))"
   ]
  },
  {
   "cell_type": "markdown",
   "metadata": {},
   "source": [
    "# To Identify whether Matrix is Sparse matrix "
   ]
  },
  {
   "cell_type": "code",
   "execution_count": 12,
   "metadata": {},
   "outputs": [],
   "source": [
    "from scipy.sparse import issparse, isspmatrix"
   ]
  },
  {
   "cell_type": "code",
   "execution_count": 32,
   "metadata": {},
   "outputs": [
    {
     "data": {
      "text/plain": [
       "True"
      ]
     },
     "execution_count": 32,
     "metadata": {},
     "output_type": "execute_result"
    }
   ],
   "source": [
    "isspmatrix(X_csc)"
   ]
  },
  {
   "cell_type": "code",
   "execution_count": 41,
   "metadata": {},
   "outputs": [
    {
     "data": {
      "text/plain": [
       "True"
      ]
     },
     "execution_count": 41,
     "metadata": {},
     "output_type": "execute_result"
    }
   ],
   "source": [
    "issparse(X_csc)"
   ]
  },
  {
   "cell_type": "code",
   "execution_count": null,
   "metadata": {},
   "outputs": [],
   "source": []
  }
 ],
 "metadata": {
  "kernelspec": {
   "display_name": "Python 3",
   "language": "python",
   "name": "python3"
  },
  "language_info": {
   "codemirror_mode": {
    "name": "ipython",
    "version": 3
   },
   "file_extension": ".py",
   "mimetype": "text/x-python",
   "name": "python",
   "nbconvert_exporter": "python",
   "pygments_lexer": "ipython3",
   "version": "3.7.7"
  }
 },
 "nbformat": 4,
 "nbformat_minor": 4
}
